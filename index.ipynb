{
 "cells": [
  {
   "cell_type": "markdown",
   "metadata": {},
   "source": [
    "# Measures of Central Tendency - Quiz\n",
    "\n",
    "## Objectives\n",
    "You will be able to:\n",
    "* Understand and describe the significance of measuring central tendency of continuous data\n",
    "* Understand the formula and intuition behind the mean, median, mode and modal class\n",
    "* Compare mean-median-mode, along with histograms to explain the central tendency of given data"
   ]
  },
  {
   "cell_type": "markdown",
   "metadata": {},
   "source": [
    "**Note, for these exercises, you do not need to write code to answer them - we'll do that later. Just do them by hand or with a calculator to make sure you're comfortable with the process of calculating the answers!**\n",
    "\n",
    "### Exercise 1\n",
    "Calculate the mean, median and mode for this data set: \n",
    "```\n",
    "19, 18, 21, 16, 15, 17, 20, 18\n",
    "```\n",
    "While comparing the results of three measures, comment about this distribution. "
   ]
  },
  {
   "cell_type": "code",
   "execution_count": 1,
   "metadata": {},
   "outputs": [
    {
     "name": "stdout",
     "output_type": "stream",
     "text": [
      "The mean is:  18.0 .\n",
      "[15, 16, 17, 18, 18, 19, 20, 21]\n",
      "The median is:  18.0 .\n"
     ]
    }
   ],
   "source": [
    "# Your answer here \n",
    "#mean\n",
    "a = [19, 18, 21, 16, 15, 17, 20, 18]\n",
    "total = sum(a)\n",
    "count = len(a)\n",
    "mean = total/count\n",
    "print(\"The mean is: \", mean, \".\")       #mean = 18\n",
    "\n",
    "#mode\n",
    "a_sorted = sorted(a)\n",
    "print(a_sorted)     #mode = 18\n",
    "\n",
    "#median\n",
    "n = len(a)//2\n",
    "if len(a)%2 == 0:\n",
    "    print(\"The median is: \", ((a_sorted[n-1] + a_sorted[n])/2), \".\")\n",
    "else:\n",
    "    print(\"The median is: \", a_sorted[n], \".\")       #median = 18\n",
    "    \n",
    "### Since all three measures are equal, this is a normal distribution."
   ]
  },
  {
   "cell_type": "markdown",
   "metadata": {},
   "source": [
    "### Exercise 2\n",
    "\n",
    "Calculate the mean, median and mode for given distribution and state which of these measures does not describe the \"middle\" of this data set? and why ?\n",
    "```\n",
    "100, 99, 97, 97, 96, 98, 95, 72\n",
    "```"
   ]
  },
  {
   "cell_type": "code",
   "execution_count": 2,
   "metadata": {},
   "outputs": [
    {
     "name": "stdout",
     "output_type": "stream",
     "text": [
      "The mean is:  94.25 .\n",
      "[72, 95, 96, 97, 97, 98, 99, 100]\n",
      "The median is:  97.0 .\n"
     ]
    }
   ],
   "source": [
    "# Your answer here \n",
    "#mean\n",
    "b = [100, 99, 97, 97, 96, 98, 95, 72]\n",
    "totalb = sum(b)\n",
    "countb = len(b)\n",
    "meanb = totalb/countb\n",
    "print(\"The mean is: \", meanb, \".\")\n",
    "\n",
    "#mode\n",
    "b_sorted = sorted(b)\n",
    "print(b_sorted)     #mode = 97\n",
    "\n",
    "#median\n",
    "n = len(b)//2\n",
    "if len(b)%2 == 0:\n",
    "    print(\"The median is: \", ((b_sorted[n-1] + b_sorted[n])/2), \".\")\n",
    "else:\n",
    "    print(\"The median is: \", b_sorted[n], \".\")\n",
    "    \n",
    "###The mean does not describe the 'middle' of the dataset because there is an outlier that skewed the data to the left causing it to be on the lower than the middle."
   ]
  },
  {
   "cell_type": "markdown",
   "metadata": {},
   "source": [
    "### Exercise 3\n",
    "On the first three days of his bookshop opening, Joe sold 15, 18, and 16 books (He initially hoped that he would sell 17 books every day).  How many books does he need to sell on the next day to have a mean sale of 17?"
   ]
  },
  {
   "cell_type": "code",
   "execution_count": 5,
   "metadata": {},
   "outputs": [
    {
     "name": "stdout",
     "output_type": "stream",
     "text": [
      "The mean is:  16.333333333333332 .\n",
      "[15, 16, 18]\n",
      "The median is:  16 .\n",
      "The number of books Joe needs to sell the next day to have a mean sale of 17 is:  19 .\n"
     ]
    }
   ],
   "source": [
    "# Your answer here \n",
    "books = [15, 18, 16]\n",
    "\n",
    "#mean\n",
    "totalbooks = sum(books)\n",
    "countbooks = len(books)\n",
    "meanbooks = totalbooks/countbooks\n",
    "print(\"The mean is: \", meanbooks, \".\")\n",
    "\n",
    "#mode\n",
    "books_sorted = sorted(books)\n",
    "print(books_sorted)     #mode = 97\n",
    "\n",
    "#median\n",
    "n = len(books)//2\n",
    "if len(books)%2 == 0:\n",
    "    print(\"The median is: \", ((books_sorted[n-1] + books_sorted[n])/2), \".\")\n",
    "else:\n",
    "    print(\"The median is: \", books_sorted[n], \".\")\n",
    "    \n",
    "print(\"The number of books Joe needs to sell the next day to have a mean sale of 17 is: \", 17*4-(15+16+18), \".\")"
   ]
  },
  {
   "cell_type": "markdown",
   "metadata": {},
   "source": [
    "### Exercise 4\n",
    "The histograms show the amount of time (hours per day) spent on Facebook by 46 middle school girls and 40 middle school boys from a school in San Francisco. A total of 50 boys and 50 girls took the survey, 4 girls and 10 boys did not use Facebook at all. \n",
    "Each is graphed with a bin width of 0.25 hours.\n",
    "\n",
    "![](boys.png)\n",
    "![](girls.png)\n",
    "\n",
    "Looking at these histograms, answer following questions. \n",
    "\n",
    "*Hint: For most parts, you will have to figure out the location of required bins and count the frequencies. *\n",
    "\n",
    "#### How many boys spend more than 1.5 hours/day on Facebook?\n"
   ]
  },
  {
   "cell_type": "code",
   "execution_count": 9,
   "metadata": {},
   "outputs": [],
   "source": [
    "# Your answer here "
   ]
  },
  {
   "cell_type": "markdown",
   "metadata": {},
   "source": [
    "#### Compare the percentage of boys and girls that spend more than zero but less than 1 hour/day on Facebook."
   ]
  },
  {
   "cell_type": "code",
   "execution_count": 10,
   "metadata": {},
   "outputs": [],
   "source": [
    "# Your answer here "
   ]
  },
  {
   "cell_type": "markdown",
   "metadata": {},
   "source": [
    "#### Find the bin where the median of the boys' data set lies."
   ]
  },
  {
   "cell_type": "code",
   "execution_count": 11,
   "metadata": {},
   "outputs": [],
   "source": [
    "# Your answer here "
   ]
  },
  {
   "cell_type": "markdown",
   "metadata": {},
   "source": [
    "#### In terms of Facebook usage times based on given data, what can you conclude about usage habits of boys and girls?"
   ]
  },
  {
   "cell_type": "code",
   "execution_count": 12,
   "metadata": {},
   "outputs": [],
   "source": [
    "# Your answer here "
   ]
  }
 ],
 "metadata": {
  "kernelspec": {
   "display_name": "Python 3",
   "language": "python",
   "name": "python3"
  },
  "language_info": {
   "codemirror_mode": {
    "name": "ipython",
    "version": 3
   },
   "file_extension": ".py",
   "mimetype": "text/x-python",
   "name": "python",
   "nbconvert_exporter": "python",
   "pygments_lexer": "ipython3",
   "version": "3.6.6"
  }
 },
 "nbformat": 4,
 "nbformat_minor": 2
}
